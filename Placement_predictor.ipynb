{
  "cells": [
    {
      "cell_type": "code",
      "execution_count": 39,
      "metadata": {
        "id": "EnmAcNwhhmvC"
      },
      "outputs": [],
      "source": [
        "import numpy as np\n",
        "import pandas as pd"
      ]
    },
    {
      "cell_type": "code",
      "execution_count": 40,
      "metadata": {
        "id": "t0POm9Hkhv5-"
      },
      "outputs": [],
      "source": [
        "df = pd.read_csv('C:/Users/Hello/Desktop/Placement_Prediction/placement.csv')"
      ]
    },
    {
      "cell_type": "code",
      "execution_count": 41,
      "metadata": {
        "colab": {
          "base_uri": "https://localhost:8080/",
          "height": 206
        },
        "id": "fntI4AmFh2nQ",
        "outputId": "3b85ed11-f468-45f6-f4b9-a1d4ad79f00f"
      },
      "outputs": [
        {
          "data": {
            "text/html": [
              "<div>\n",
              "<style scoped>\n",
              "    .dataframe tbody tr th:only-of-type {\n",
              "        vertical-align: middle;\n",
              "    }\n",
              "\n",
              "    .dataframe tbody tr th {\n",
              "        vertical-align: top;\n",
              "    }\n",
              "\n",
              "    .dataframe thead th {\n",
              "        text-align: right;\n",
              "    }\n",
              "</style>\n",
              "<table border=\"1\" class=\"dataframe\">\n",
              "  <thead>\n",
              "    <tr style=\"text-align: right;\">\n",
              "      <th></th>\n",
              "      <th>Unnamed: 0</th>\n",
              "      <th>cgpa</th>\n",
              "      <th>iq</th>\n",
              "      <th>placement</th>\n",
              "    </tr>\n",
              "  </thead>\n",
              "  <tbody>\n",
              "    <tr>\n",
              "      <th>0</th>\n",
              "      <td>0</td>\n",
              "      <td>6.8</td>\n",
              "      <td>123.0</td>\n",
              "      <td>1</td>\n",
              "    </tr>\n",
              "    <tr>\n",
              "      <th>1</th>\n",
              "      <td>1</td>\n",
              "      <td>5.9</td>\n",
              "      <td>106.0</td>\n",
              "      <td>0</td>\n",
              "    </tr>\n",
              "    <tr>\n",
              "      <th>2</th>\n",
              "      <td>2</td>\n",
              "      <td>5.3</td>\n",
              "      <td>121.0</td>\n",
              "      <td>0</td>\n",
              "    </tr>\n",
              "    <tr>\n",
              "      <th>3</th>\n",
              "      <td>3</td>\n",
              "      <td>7.4</td>\n",
              "      <td>132.0</td>\n",
              "      <td>1</td>\n",
              "    </tr>\n",
              "    <tr>\n",
              "      <th>4</th>\n",
              "      <td>4</td>\n",
              "      <td>5.8</td>\n",
              "      <td>142.0</td>\n",
              "      <td>0</td>\n",
              "    </tr>\n",
              "  </tbody>\n",
              "</table>\n",
              "</div>"
            ],
            "text/plain": [
              "   Unnamed: 0  cgpa     iq  placement\n",
              "0           0   6.8  123.0          1\n",
              "1           1   5.9  106.0          0\n",
              "2           2   5.3  121.0          0\n",
              "3           3   7.4  132.0          1\n",
              "4           4   5.8  142.0          0"
            ]
          },
          "execution_count": 41,
          "metadata": {},
          "output_type": "execute_result"
        }
      ],
      "source": [
        "df.head()"
      ]
    },
    {
      "cell_type": "code",
      "execution_count": 42,
      "metadata": {
        "colab": {
          "base_uri": "https://localhost:8080/"
        },
        "id": "TMbwav1Mh4ig",
        "outputId": "fc1f6514-24c6-4f56-d307-a7f353a5091d"
      },
      "outputs": [
        {
          "name": "stdout",
          "output_type": "stream",
          "text": [
            "<class 'pandas.core.frame.DataFrame'>\n",
            "RangeIndex: 267 entries, 0 to 266\n",
            "Data columns (total 4 columns):\n",
            " #   Column      Non-Null Count  Dtype  \n",
            "---  ------      --------------  -----  \n",
            " 0   Unnamed: 0  267 non-null    int64  \n",
            " 1   cgpa        267 non-null    float64\n",
            " 2   iq          267 non-null    float64\n",
            " 3   placement   267 non-null    int64  \n",
            "dtypes: float64(2), int64(2)\n",
            "memory usage: 8.5 KB\n"
          ]
        }
      ],
      "source": [
        "df.info()"
      ]
    },
    {
      "cell_type": "code",
      "execution_count": 43,
      "metadata": {
        "colab": {
          "base_uri": "https://localhost:8080/"
        },
        "id": "bOJ-snvriHEK",
        "outputId": "05e4d46a-43f7-4f96-883e-c2f0a3326535"
      },
      "outputs": [
        {
          "data": {
            "text/plain": [
              "(267, 4)"
            ]
          },
          "execution_count": 43,
          "metadata": {},
          "output_type": "execute_result"
        }
      ],
      "source": [
        "df.shape"
      ]
    },
    {
      "cell_type": "code",
      "execution_count": 44,
      "metadata": {
        "id": "ISbMlJ99iNl_"
      },
      "outputs": [],
      "source": [
        "df = df.iloc[:,1:]"
      ]
    },
    {
      "cell_type": "code",
      "execution_count": 45,
      "metadata": {
        "colab": {
          "base_uri": "https://localhost:8080/",
          "height": 206
        },
        "id": "GYrmwzfuiRih",
        "outputId": "debb5d9f-7e6a-4160-abe6-0598acb670a0"
      },
      "outputs": [
        {
          "data": {
            "text/html": [
              "<div>\n",
              "<style scoped>\n",
              "    .dataframe tbody tr th:only-of-type {\n",
              "        vertical-align: middle;\n",
              "    }\n",
              "\n",
              "    .dataframe tbody tr th {\n",
              "        vertical-align: top;\n",
              "    }\n",
              "\n",
              "    .dataframe thead th {\n",
              "        text-align: right;\n",
              "    }\n",
              "</style>\n",
              "<table border=\"1\" class=\"dataframe\">\n",
              "  <thead>\n",
              "    <tr style=\"text-align: right;\">\n",
              "      <th></th>\n",
              "      <th>cgpa</th>\n",
              "      <th>iq</th>\n",
              "      <th>placement</th>\n",
              "    </tr>\n",
              "  </thead>\n",
              "  <tbody>\n",
              "    <tr>\n",
              "      <th>0</th>\n",
              "      <td>6.8</td>\n",
              "      <td>123.0</td>\n",
              "      <td>1</td>\n",
              "    </tr>\n",
              "    <tr>\n",
              "      <th>1</th>\n",
              "      <td>5.9</td>\n",
              "      <td>106.0</td>\n",
              "      <td>0</td>\n",
              "    </tr>\n",
              "    <tr>\n",
              "      <th>2</th>\n",
              "      <td>5.3</td>\n",
              "      <td>121.0</td>\n",
              "      <td>0</td>\n",
              "    </tr>\n",
              "    <tr>\n",
              "      <th>3</th>\n",
              "      <td>7.4</td>\n",
              "      <td>132.0</td>\n",
              "      <td>1</td>\n",
              "    </tr>\n",
              "    <tr>\n",
              "      <th>4</th>\n",
              "      <td>5.8</td>\n",
              "      <td>142.0</td>\n",
              "      <td>0</td>\n",
              "    </tr>\n",
              "  </tbody>\n",
              "</table>\n",
              "</div>"
            ],
            "text/plain": [
              "   cgpa     iq  placement\n",
              "0   6.8  123.0          1\n",
              "1   5.9  106.0          0\n",
              "2   5.3  121.0          0\n",
              "3   7.4  132.0          1\n",
              "4   5.8  142.0          0"
            ]
          },
          "execution_count": 45,
          "metadata": {},
          "output_type": "execute_result"
        }
      ],
      "source": [
        "df.head()"
      ]
    },
    {
      "cell_type": "code",
      "execution_count": 46,
      "metadata": {
        "id": "IJih2PYWiVXm"
      },
      "outputs": [],
      "source": [
        "# Steps\n",
        "\n",
        "# 0. Preprocess + EDA + Feature Selection ->preprocess by removing 0th column in above step- (df = df.iloc[:,1:]) because it was not required\n",
        "# 1. Extract input and output cols\n",
        "# 2. Scale the values ->to bring highly varying values in range(x & y axis values have vary highly eg- age of a person can be between 0 to 120 max but salary can go upto lakhs so here)\n",
        "# x & y values are varying very much and thus the distance will be more and the model may face problems in prediction\n",
        "# 3. Train test split ->to test the the model with training data which was not used for training but we have the output so that we can compare the results (actual & predicted output)\n",
        "# 4. Train the model\n",
        "# 5. Evaluate the model/model selection -> evaluate diff algos & choose the algo/model which performs best(not doing this in this project)\n",
        "# 6. Deploy the model -> deploying on the server after integrating with the software application."
      ]
    },
    {
      "cell_type": "code",
      "execution_count": 47,
      "metadata": {
        "colab": {
          "base_uri": "https://localhost:8080/",
          "height": 447
        },
        "id": "8KQCZDmJi13Y",
        "outputId": "d576fd8a-aacb-4a60-dbc1-af0e486090bb"
      },
      "outputs": [
        {
          "data": {
            "text/plain": [
              "<matplotlib.collections.PathCollection at 0x1b655202730>"
            ]
          },
          "execution_count": 47,
          "metadata": {},
          "output_type": "execute_result"
        },
        {
          "data": {
            "image/png": "[encoded data removed]",
            "text/plain": [
              "<Figure size 640x480 with 1 Axes>"
            ]
          },
          "metadata": {},
          "output_type": "display_data"
        }
      ],
      "source": [
        "import matplotlib.pyplot as plt\n",
        "plt.scatter(df['cgpa'],df['iq'],c=df['placement']) #cgpa is x asis, iq is y axis and the placement is with colors, yellow means placed(1), violet means not placed (0)"
      ]
    },
    {
      "cell_type": "code",
      "execution_count": 48,
      "metadata": {
        "id": "fMLSq0j3jCG4"
      },
      "outputs": [],
      "source": [
        "# step -3 extracting input & output cols\n",
        "x = df.iloc[:,0:2] #input cols, independent variables\n",
        "y = df.iloc[:,-1] #output col, dependent variable"
      ]
    },
    {
      "cell_type": "code",
      "execution_count": 49,
      "metadata": {
        "colab": {
          "base_uri": "https://localhost:8080/",
          "height": 424
        },
        "id": "UJc4ZvKblBMl",
        "outputId": "2142ffb8-cd6d-4060-828c-803183f96da4"
      },
      "outputs": [
        {
          "data": {
            "text/html": [
              "<div>\n",
              "<style scoped>\n",
              "    .dataframe tbody tr th:only-of-type {\n",
              "        vertical-align: middle;\n",
              "    }\n",
              "\n",
              "    .dataframe tbody tr th {\n",
              "        vertical-align: top;\n",
              "    }\n",
              "\n",
              "    .dataframe thead th {\n",
              "        text-align: right;\n",
              "    }\n",
              "</style>\n",
              "<table border=\"1\" class=\"dataframe\">\n",
              "  <thead>\n",
              "    <tr style=\"text-align: right;\">\n",
              "      <th></th>\n",
              "      <th>cgpa</th>\n",
              "      <th>iq</th>\n",
              "    </tr>\n",
              "  </thead>\n",
              "  <tbody>\n",
              "    <tr>\n",
              "      <th>0</th>\n",
              "      <td>6.8</td>\n",
              "      <td>123.0</td>\n",
              "    </tr>\n",
              "    <tr>\n",
              "      <th>1</th>\n",
              "      <td>5.9</td>\n",
              "      <td>106.0</td>\n",
              "    </tr>\n",
              "    <tr>\n",
              "      <th>2</th>\n",
              "      <td>5.3</td>\n",
              "      <td>121.0</td>\n",
              "    </tr>\n",
              "    <tr>\n",
              "      <th>3</th>\n",
              "      <td>7.4</td>\n",
              "      <td>132.0</td>\n",
              "    </tr>\n",
              "    <tr>\n",
              "      <th>4</th>\n",
              "      <td>5.8</td>\n",
              "      <td>142.0</td>\n",
              "    </tr>\n",
              "    <tr>\n",
              "      <th>...</th>\n",
              "      <td>...</td>\n",
              "      <td>...</td>\n",
              "    </tr>\n",
              "    <tr>\n",
              "      <th>262</th>\n",
              "      <td>6.1</td>\n",
              "      <td>120.0</td>\n",
              "    </tr>\n",
              "    <tr>\n",
              "      <th>263</th>\n",
              "      <td>5.5</td>\n",
              "      <td>130.0</td>\n",
              "    </tr>\n",
              "    <tr>\n",
              "      <th>264</th>\n",
              "      <td>7.2</td>\n",
              "      <td>150.0</td>\n",
              "    </tr>\n",
              "    <tr>\n",
              "      <th>265</th>\n",
              "      <td>6.7</td>\n",
              "      <td>140.0</td>\n",
              "    </tr>\n",
              "    <tr>\n",
              "      <th>266</th>\n",
              "      <td>5.4</td>\n",
              "      <td>135.0</td>\n",
              "    </tr>\n",
              "  </tbody>\n",
              "</table>\n",
              "<p>267 rows × 2 columns</p>\n",
              "</div>"
            ],
            "text/plain": [
              "     cgpa     iq\n",
              "0     6.8  123.0\n",
              "1     5.9  106.0\n",
              "2     5.3  121.0\n",
              "3     7.4  132.0\n",
              "4     5.8  142.0\n",
              "..    ...    ...\n",
              "262   6.1  120.0\n",
              "263   5.5  130.0\n",
              "264   7.2  150.0\n",
              "265   6.7  140.0\n",
              "266   5.4  135.0\n",
              "\n",
              "[267 rows x 2 columns]"
            ]
          },
          "execution_count": 49,
          "metadata": {},
          "output_type": "execute_result"
        }
      ],
      "source": [
        "x"
      ]
    },
    {
      "cell_type": "code",
      "execution_count": 50,
      "metadata": {
        "colab": {
          "base_uri": "https://localhost:8080/"
        },
        "id": "IsnpnfX1lDsi",
        "outputId": "d1c3d12d-bff1-4cf6-9e8f-02a748c4fc74"
      },
      "outputs": [
        {
          "data": {
            "text/plain": [
              "0      1\n",
              "1      0\n",
              "2      0\n",
              "3      1\n",
              "4      0\n",
              "      ..\n",
              "262    1\n",
              "263    0\n",
              "264    1\n",
              "265    1\n",
              "266    0\n",
              "Name: placement, Length: 267, dtype: int64"
            ]
          },
          "execution_count": 50,
          "metadata": {},
          "output_type": "execute_result"
        }
      ],
      "source": [
        "y"
      ]
    },
    {
      "cell_type": "code",
      "execution_count": 51,
      "metadata": {
        "id": "293fXMGgld4h"
      },
      "outputs": [],
      "source": [
        "from sklearn.model_selection import train_test_split\n",
        "\n",
        "x_train,x_test,y_train,y_test = train_test_split(x,y,test_size=0.1)"
      ]
    },
    {
      "cell_type": "code",
      "execution_count": 52,
      "metadata": {
        "colab": {
          "base_uri": "https://localhost:8080/",
          "height": 424
        },
        "id": "t-Um6tnzsL6W",
        "outputId": "50ba1dac-ad41-4c8a-e9c3-aabf4f872aba"
      },
      "outputs": [
        {
          "data": {
            "text/html": [
              "<div>\n",
              "<style scoped>\n",
              "    .dataframe tbody tr th:only-of-type {\n",
              "        vertical-align: middle;\n",
              "    }\n",
              "\n",
              "    .dataframe tbody tr th {\n",
              "        vertical-align: top;\n",
              "    }\n",
              "\n",
              "    .dataframe thead th {\n",
              "        text-align: right;\n",
              "    }\n",
              "</style>\n",
              "<table border=\"1\" class=\"dataframe\">\n",
              "  <thead>\n",
              "    <tr style=\"text-align: right;\">\n",
              "      <th></th>\n",
              "      <th>cgpa</th>\n",
              "      <th>iq</th>\n",
              "    </tr>\n",
              "  </thead>\n",
              "  <tbody>\n",
              "    <tr>\n",
              "      <th>247</th>\n",
              "      <td>6.6</td>\n",
              "      <td>135.0</td>\n",
              "    </tr>\n",
              "    <tr>\n",
              "      <th>70</th>\n",
              "      <td>6.3</td>\n",
              "      <td>127.0</td>\n",
              "    </tr>\n",
              "    <tr>\n",
              "      <th>55</th>\n",
              "      <td>7.8</td>\n",
              "      <td>114.0</td>\n",
              "    </tr>\n",
              "    <tr>\n",
              "      <th>132</th>\n",
              "      <td>5.5</td>\n",
              "      <td>130.0</td>\n",
              "    </tr>\n",
              "    <tr>\n",
              "      <th>24</th>\n",
              "      <td>4.7</td>\n",
              "      <td>121.0</td>\n",
              "    </tr>\n",
              "    <tr>\n",
              "      <th>...</th>\n",
              "      <td>...</td>\n",
              "      <td>...</td>\n",
              "    </tr>\n",
              "    <tr>\n",
              "      <th>155</th>\n",
              "      <td>7.5</td>\n",
              "      <td>155.0</td>\n",
              "    </tr>\n",
              "    <tr>\n",
              "      <th>59</th>\n",
              "      <td>4.8</td>\n",
              "      <td>112.0</td>\n",
              "    </tr>\n",
              "    <tr>\n",
              "      <th>151</th>\n",
              "      <td>7.1</td>\n",
              "      <td>145.0</td>\n",
              "    </tr>\n",
              "    <tr>\n",
              "      <th>248</th>\n",
              "      <td>5.5</td>\n",
              "      <td>130.0</td>\n",
              "    </tr>\n",
              "    <tr>\n",
              "      <th>148</th>\n",
              "      <td>5.8</td>\n",
              "      <td>130.0</td>\n",
              "    </tr>\n",
              "  </tbody>\n",
              "</table>\n",
              "<p>240 rows × 2 columns</p>\n",
              "</div>"
            ],
            "text/plain": [
              "     cgpa     iq\n",
              "247   6.6  135.0\n",
              "70    6.3  127.0\n",
              "55    7.8  114.0\n",
              "132   5.5  130.0\n",
              "24    4.7  121.0\n",
              "..    ...    ...\n",
              "155   7.5  155.0\n",
              "59    4.8  112.0\n",
              "151   7.1  145.0\n",
              "248   5.5  130.0\n",
              "148   5.8  130.0\n",
              "\n",
              "[240 rows x 2 columns]"
            ]
          },
          "execution_count": 52,
          "metadata": {},
          "output_type": "execute_result"
        }
      ],
      "source": [
        "x_train"
      ]
    },
    {
      "cell_type": "code",
      "execution_count": 53,
      "metadata": {
        "colab": {
          "base_uri": "https://localhost:8080/"
        },
        "id": "AMrJfzwxsSOm",
        "outputId": "0c1f72d6-b51d-4f16-b2ef-079c814587a4"
      },
      "outputs": [
        {
          "data": {
            "text/plain": [
              "247    1\n",
              "70     1\n",
              "55     1\n",
              "132    0\n",
              "24     0\n",
              "      ..\n",
              "155    1\n",
              "59     0\n",
              "151    1\n",
              "248    0\n",
              "148    0\n",
              "Name: placement, Length: 240, dtype: int64"
            ]
          },
          "execution_count": 53,
          "metadata": {},
          "output_type": "execute_result"
        }
      ],
      "source": [
        "y_train"
      ]
    },
    {
      "cell_type": "code",
      "execution_count": 54,
      "metadata": {
        "colab": {
          "base_uri": "https://localhost:8080/",
          "height": 363
        },
        "id": "p2kZI2BYsWOo",
        "outputId": "0e214393-7e8d-498b-9ca0-51c51ded0d4f"
      },
      "outputs": [
        {
          "data": {
            "text/html": [
              "<div>\n",
              "<style scoped>\n",
              "    .dataframe tbody tr th:only-of-type {\n",
              "        vertical-align: middle;\n",
              "    }\n",
              "\n",
              "    .dataframe tbody tr th {\n",
              "        vertical-align: top;\n",
              "    }\n",
              "\n",
              "    .dataframe thead th {\n",
              "        text-align: right;\n",
              "    }\n",
              "</style>\n",
              "<table border=\"1\" class=\"dataframe\">\n",
              "  <thead>\n",
              "    <tr style=\"text-align: right;\">\n",
              "      <th></th>\n",
              "      <th>cgpa</th>\n",
              "      <th>iq</th>\n",
              "    </tr>\n",
              "  </thead>\n",
              "  <tbody>\n",
              "    <tr>\n",
              "      <th>9</th>\n",
              "      <td>5.1</td>\n",
              "      <td>66.0</td>\n",
              "    </tr>\n",
              "    <tr>\n",
              "      <th>208</th>\n",
              "      <td>7.3</td>\n",
              "      <td>150.0</td>\n",
              "    </tr>\n",
              "    <tr>\n",
              "      <th>46</th>\n",
              "      <td>5.3</td>\n",
              "      <td>114.0</td>\n",
              "    </tr>\n",
              "    <tr>\n",
              "      <th>110</th>\n",
              "      <td>6.4</td>\n",
              "      <td>125.0</td>\n",
              "    </tr>\n",
              "    <tr>\n",
              "      <th>210</th>\n",
              "      <td>5.4</td>\n",
              "      <td>135.0</td>\n",
              "    </tr>\n",
              "    <tr>\n",
              "      <th>83</th>\n",
              "      <td>7.5</td>\n",
              "      <td>130.0</td>\n",
              "    </tr>\n",
              "    <tr>\n",
              "      <th>75</th>\n",
              "      <td>4.8</td>\n",
              "      <td>169.0</td>\n",
              "    </tr>\n",
              "    <tr>\n",
              "      <th>65</th>\n",
              "      <td>8.1</td>\n",
              "      <td>166.0</td>\n",
              "    </tr>\n",
              "    <tr>\n",
              "      <th>119</th>\n",
              "      <td>7.8</td>\n",
              "      <td>165.0</td>\n",
              "    </tr>\n",
              "    <tr>\n",
              "      <th>246</th>\n",
              "      <td>7.4</td>\n",
              "      <td>150.0</td>\n",
              "    </tr>\n",
              "    <tr>\n",
              "      <th>165</th>\n",
              "      <td>6.1</td>\n",
              "      <td>120.0</td>\n",
              "    </tr>\n",
              "    <tr>\n",
              "      <th>238</th>\n",
              "      <td>5.6</td>\n",
              "      <td>135.0</td>\n",
              "    </tr>\n",
              "    <tr>\n",
              "      <th>157</th>\n",
              "      <td>6.1</td>\n",
              "      <td>135.0</td>\n",
              "    </tr>\n",
              "    <tr>\n",
              "      <th>12</th>\n",
              "      <td>5.4</td>\n",
              "      <td>139.0</td>\n",
              "    </tr>\n",
              "    <tr>\n",
              "      <th>239</th>\n",
              "      <td>4.8</td>\n",
              "      <td>125.0</td>\n",
              "    </tr>\n",
              "    <tr>\n",
              "      <th>176</th>\n",
              "      <td>7.5</td>\n",
              "      <td>150.0</td>\n",
              "    </tr>\n",
              "    <tr>\n",
              "      <th>79</th>\n",
              "      <td>6.5</td>\n",
              "      <td>90.0</td>\n",
              "    </tr>\n",
              "    <tr>\n",
              "      <th>204</th>\n",
              "      <td>6.1</td>\n",
              "      <td>130.0</td>\n",
              "    </tr>\n",
              "    <tr>\n",
              "      <th>52</th>\n",
              "      <td>7.0</td>\n",
              "      <td>175.0</td>\n",
              "    </tr>\n",
              "    <tr>\n",
              "      <th>171</th>\n",
              "      <td>7.4</td>\n",
              "      <td>130.0</td>\n",
              "    </tr>\n",
              "    <tr>\n",
              "      <th>58</th>\n",
              "      <td>8.0</td>\n",
              "      <td>79.0</td>\n",
              "    </tr>\n",
              "    <tr>\n",
              "      <th>260</th>\n",
              "      <td>4.9</td>\n",
              "      <td>110.0</td>\n",
              "    </tr>\n",
              "    <tr>\n",
              "      <th>6</th>\n",
              "      <td>5.7</td>\n",
              "      <td>143.0</td>\n",
              "    </tr>\n",
              "    <tr>\n",
              "      <th>206</th>\n",
              "      <td>5.6</td>\n",
              "      <td>125.0</td>\n",
              "    </tr>\n",
              "    <tr>\n",
              "      <th>62</th>\n",
              "      <td>6.0</td>\n",
              "      <td>102.0</td>\n",
              "    </tr>\n",
              "    <tr>\n",
              "      <th>243</th>\n",
              "      <td>7.3</td>\n",
              "      <td>140.0</td>\n",
              "    </tr>\n",
              "    <tr>\n",
              "      <th>154</th>\n",
              "      <td>6.0</td>\n",
              "      <td>130.0</td>\n",
              "    </tr>\n",
              "  </tbody>\n",
              "</table>\n",
              "</div>"
            ],
            "text/plain": [
              "     cgpa     iq\n",
              "9     5.1   66.0\n",
              "208   7.3  150.0\n",
              "46    5.3  114.0\n",
              "110   6.4  125.0\n",
              "210   5.4  135.0\n",
              "83    7.5  130.0\n",
              "75    4.8  169.0\n",
              "65    8.1  166.0\n",
              "119   7.8  165.0\n",
              "246   7.4  150.0\n",
              "165   6.1  120.0\n",
              "238   5.6  135.0\n",
              "157   6.1  135.0\n",
              "12    5.4  139.0\n",
              "239   4.8  125.0\n",
              "176   7.5  150.0\n",
              "79    6.5   90.0\n",
              "204   6.1  130.0\n",
              "52    7.0  175.0\n",
              "171   7.4  130.0\n",
              "58    8.0   79.0\n",
              "260   4.9  110.0\n",
              "6     5.7  143.0\n",
              "206   5.6  125.0\n",
              "62    6.0  102.0\n",
              "243   7.3  140.0\n",
              "154   6.0  130.0"
            ]
          },
          "execution_count": 54,
          "metadata": {},
          "output_type": "execute_result"
        }
      ],
      "source": [
        "x_test #random values which will be used for testing"
      ]
    },
    {
      "cell_type": "code",
      "execution_count": 55,
      "metadata": {
        "colab": {
          "base_uri": "https://localhost:8080/"
        },
        "id": "OZx6E3BAsX7Z",
        "outputId": "a8abd325-8193-4cb9-8321-be3fbc83d822"
      },
      "outputs": [
        {
          "data": {
            "text/plain": [
              "9      0\n",
              "208    1\n",
              "46     0\n",
              "110    1\n",
              "210    0\n",
              "83     1\n",
              "75     0\n",
              "65     1\n",
              "119    1\n",
              "246    1\n",
              "165    1\n",
              "238    0\n",
              "157    1\n",
              "12     0\n",
              "239    0\n",
              "176    1\n",
              "79     1\n",
              "204    1\n",
              "52     1\n",
              "171    1\n",
              "58     1\n",
              "260    0\n",
              "6      0\n",
              "206    0\n",
              "62     0\n",
              "243    1\n",
              "154    1\n",
              "Name: placement, dtype: int64"
            ]
          },
          "execution_count": 55,
          "metadata": {},
          "output_type": "execute_result"
        }
      ],
      "source": [
        "y_test # actual output for these as per our given data i.e placement column corresponding to these random inputs"
      ]
    },
    {
      "cell_type": "code",
      "execution_count": 56,
      "metadata": {
        "id": "rg3qaTEDs7ds"
      },
      "outputs": [],
      "source": [
        "from sklearn.preprocessing import StandardScaler #for scaling the values, not necessary fo this projects\n",
        "\n",
        "scaler = StandardScaler() ##scaler is an object which will be used to access the StandardScaler function\n"
      ]
    },
    {
      "cell_type": "code",
      "execution_count": 57,
      "metadata": {
        "id": "Y_AHNzyOtWuD"
      },
      "outputs": [],
      "source": [
        "x_train = scaler.fit_transform(x_train)"
      ]
    },
    {
      "cell_type": "code",
      "execution_count": 58,
      "metadata": {
        "colab": {
          "base_uri": "https://localhost:8080/"
        },
        "id": "8ErcKt1ytdOr",
        "outputId": "6709a558-19d1-4686-cb51-c1e004826f6d"
      },
      "outputs": [
        {
          "data": {
            "text/plain": [
              "array([[ 0.53047623,  0.23613659],\n",
              "       [ 0.23347554, -0.06019168],\n",
              "       [ 1.718479  , -0.54172511],\n",
              "       [-0.5585263 ,  0.05093142],\n",
              "       [-1.35052814, -0.28243788],\n",
              "       [ 0.13447531,  0.79175209],\n",
              "       [ 1.12447761,  0.23613659],\n",
              "       [ 0.03547508,  0.12501349],\n",
              "       [-0.06352515, -3.09755641],\n",
              "       [-1.25152791,  0.45838279],\n",
              "       [ 0.82747692,  0.38430072],\n",
              "       [-1.25152791,  0.23613659],\n",
              "       [ 0.82747692,  0.05093142],\n",
              "       [ 0.03547508, -0.94917648],\n",
              "       [ 0.82747692, -1.20846371],\n",
              "       [-0.06352515,  0.05093142],\n",
              "       [-0.45952607, -0.13427375],\n",
              "       [ 1.22347784,  0.79175209],\n",
              "       [ 1.12447761,  0.79175209],\n",
              "       [-1.44952837, -0.13427375],\n",
              "       [ 0.431476  ,  1.16216242],\n",
              "       [-1.25152791, -0.31947891],\n",
              "       [ 0.53047623,  0.42134175],\n",
              "       [ 1.22347784, -2.91235124],\n",
              "       [ 1.22347784,  0.60654692],\n",
              "       [ 1.32247808, -0.68988925],\n",
              "       [ 0.72847669, -1.43070991],\n",
              "       [ 1.32247808,  0.60654692],\n",
              "       [-0.26152561,  0.23613659],\n",
              "       [-0.45952607, -0.68988925],\n",
              "       [-1.15252768,  0.97695725],\n",
              "       [ 1.02547738,  1.16216242],\n",
              "       [ 0.92647715,  0.42134175],\n",
              "       [ 1.52047854, -0.02315065],\n",
              "       [-0.65752653, -0.68988925],\n",
              "       [-2.04352975, -1.06029958],\n",
              "       [ 1.12447761,  0.79175209],\n",
              "       [-1.5485286 , -0.31947891],\n",
              "       [-1.25152791, -0.13427375],\n",
              "       [-0.85552699, -0.68988925],\n",
              "       [ 0.92647715, -0.31947891],\n",
              "       [ 0.92647715,  0.60654692],\n",
              "       [ 0.92647715,  0.79175209],\n",
              "       [-0.65752653, -0.68988925],\n",
              "       [-1.35052814, -1.54183301],\n",
              "       [ 0.53047623,  0.42134175],\n",
              "       [ 0.62947646,  0.97695725],\n",
              "       [ 1.02547738, -2.98643331],\n",
              "       [-0.75652676,  0.05093142],\n",
              "       [-1.44952837,  0.64358795],\n",
              "       [ 1.42147831, -2.50489988],\n",
              "       [ 1.32247808,  0.60654692],\n",
              "       [ 0.431476  , -3.39388468],\n",
              "       [-0.06352515,  0.23613659],\n",
              "       [ 0.53047623,  0.34725969],\n",
              "       [-2.5385309 ,  3.86615785],\n",
              "       [ 0.03547508,  1.53257275],\n",
              "       [ 1.22347784,  0.31021865],\n",
              "       [ 1.22347784,  0.60654692],\n",
              "       [ 0.72847669, -0.61580718],\n",
              "       [-0.5585263 , -0.68988925],\n",
              "       [-1.15252768, -0.31947891],\n",
              "       [ 0.33247577,  0.23613659],\n",
              "       [-0.85552699,  1.19920345],\n",
              "       [ 1.42147831,  0.79175209],\n",
              "       [-2.14252998, -0.72693028],\n",
              "       [-1.15252768, -0.31947891],\n",
              "       [ 1.22347784,  0.42134175],\n",
              "       [-1.35052814, -0.13427375],\n",
              "       [-0.5585263 , -0.13427375],\n",
              "       [ 1.02547738,  0.97695725],\n",
              "       [-1.15252768,  0.82879312],\n",
              "       [-0.65752653,  0.23613659],\n",
              "       [ 1.32247808,  0.60654692],\n",
              "       [ 0.53047623,  0.42134175],\n",
              "       [-1.15252768, -0.68988925],\n",
              "       [-0.75652676,  0.42134175],\n",
              "       [ 0.62947646,  0.93991622],\n",
              "       [-0.06352515,  0.75471105],\n",
              "       [ 2.01547969,  0.75471105],\n",
              "       [-0.26152561,  0.49542382],\n",
              "       [-0.85552699,  0.12501349],\n",
              "       [ 0.03547508,  0.42134175],\n",
              "       [ 1.42147831,  0.42134175],\n",
              "       [ 0.53047623, -0.31947891],\n",
              "       [-1.05352745, -0.39356098],\n",
              "       [ 0.82747692,  0.05093142],\n",
              "       [ 1.22347784,  0.23613659],\n",
              "       [-0.26152561,  0.05093142],\n",
              "       [-0.36052584,  0.42134175],\n",
              "       [-0.06352515, -0.17131478],\n",
              "       [ 1.42147831,  1.08808035],\n",
              "       [-1.64752883,  0.75471105],\n",
              "       [-0.26152561,  0.05093142],\n",
              "       [-0.16252538, -0.68988925],\n",
              "       [-1.74652906,  2.64380375],\n",
              "       [-0.16252538,  0.05093142],\n",
              "       [ 0.82747692,  0.34725969],\n",
              "       [-0.65752653,  0.23613659],\n",
              "       [-1.25152791,  0.05093142],\n",
              "       [ 1.22347784, -0.46764305],\n",
              "       [ 1.02547738,  0.05093142],\n",
              "       [ 1.42147831,  0.79175209],\n",
              "       [ 0.82747692,  0.05093142],\n",
              "       [-1.15252768,  0.19909555],\n",
              "       [ 0.82747692,  0.60654692],\n",
              "       [-0.36052584, -0.68988925],\n",
              "       [ 0.13447531, -0.68988925],\n",
              "       [-1.44952837, -0.31947891],\n",
              "       [ 0.92647715,  0.42134175],\n",
              "       [-0.26152561,  0.05093142],\n",
              "       [-0.36052584, -0.68988925],\n",
              "       [ 1.22347784,  0.60654692],\n",
              "       [ 0.03547508, -0.31947891],\n",
              "       [ 1.02547738,  0.79175209],\n",
              "       [ 0.03547508, -2.35673574],\n",
              "       [-1.15252768, -0.13427375],\n",
              "       [ 0.82747692,  0.79175209],\n",
              "       [-0.75652676, -0.28243788],\n",
              "       [ 0.92647715,  0.97695725],\n",
              "       [-1.25152791, -0.68988925],\n",
              "       [-0.26152561, -0.31947891],\n",
              "       [ 0.03547508,  0.05093142],\n",
              "       [-0.65752653, -0.54172511],\n",
              "       [ 0.03547508,  1.01399829],\n",
              "       [-0.36052584,  0.05093142],\n",
              "       [ 0.53047623,  0.42134175],\n",
              "       [-0.75652676, -0.31947891],\n",
              "       [-0.85552699,  3.53278855],\n",
              "       [-1.35052814,  0.05093142],\n",
              "       [ 1.12447761, -0.68988925],\n",
              "       [ 1.32247808,  0.79175209],\n",
              "       [ 0.92647715,  2.60676272],\n",
              "       [ 0.62947646,  0.60654692],\n",
              "       [-0.26152561,  1.38440862],\n",
              "       [-1.15252768, -0.68988925],\n",
              "       [-0.16252538, -0.83805338],\n",
              "       [-1.15252768,  2.49563962],\n",
              "       [-1.15252768, -0.31947891],\n",
              "       [ 0.23347554, -0.02315065],\n",
              "       [-0.16252538, -0.31947891],\n",
              "       [ 0.33247577,  0.42134175],\n",
              "       [ 0.13447531,  0.42134175],\n",
              "       [ 2.21348015,  1.45849069],\n",
              "       [ 1.32247808,  0.12501349],\n",
              "       [-0.75652676, -0.31947891],\n",
              "       [-0.65752653, -0.31947891],\n",
              "       [-1.15252768, -0.31947891],\n",
              "       [-1.15252768, -0.31947891],\n",
              "       [ 1.22347784,  0.05093142],\n",
              "       [-1.74652906, -0.31947891],\n",
              "       [-0.36052584,  0.05093142],\n",
              "       [ 1.02547738,  0.82879312],\n",
              "       [ 0.13447531,  0.42134175],\n",
              "       [-0.26152561, -0.68988925],\n",
              "       [ 0.53047623,  0.23613659],\n",
              "       [-0.5585263 , -0.68988925],\n",
              "       [ 1.32247808,  0.79175209],\n",
              "       [ 1.42147831,  0.79175209],\n",
              "       [ 1.02547738,  0.42134175],\n",
              "       [-1.64752883, -3.20867951],\n",
              "       [-0.65752653, -0.80101235],\n",
              "       [ 1.32247808,  0.79175209],\n",
              "       [ 0.72847669, -0.20835581],\n",
              "       [-0.5585263 , -0.31947891],\n",
              "       [ 0.53047623, -0.31947891],\n",
              "       [-1.05352745, -1.39366888],\n",
              "       [-2.73653136,  2.01410619],\n",
              "       [ 0.03547508,  0.79175209],\n",
              "       [-0.5585263 ,  0.05093142],\n",
              "       [ 0.33247577, -0.46764305],\n",
              "       [ 0.03547508,  0.23613659],\n",
              "       [ 1.12447761,  0.42134175],\n",
              "       [ 1.22347784, -1.57887404],\n",
              "       [-0.65752653,  0.05093142],\n",
              "       [-0.65752653,  0.23613659],\n",
              "       [-1.44952837, -0.13427375],\n",
              "       [ 1.52047854, -1.46775094],\n",
              "       [-0.95452722, -0.02315065],\n",
              "       [-1.05352745, -0.50468408],\n",
              "       [-0.65752653,  0.05093142],\n",
              "       [-1.35052814, -0.31947891],\n",
              "       [-1.15252768, -0.31947891],\n",
              "       [-0.45952607, -0.31947891],\n",
              "       [-1.15252768, -2.50489988],\n",
              "       [ 0.03547508, -0.68988925],\n",
              "       [-0.45952607, -0.13427375],\n",
              "       [-0.45952607,  0.60654692],\n",
              "       [ 0.33247577,  0.45838279],\n",
              "       [ 0.33247577,  0.05093142],\n",
              "       [ 0.431476  ,  0.05093142],\n",
              "       [ 0.92647715,  0.38430072],\n",
              "       [-1.05352745, -2.43081781],\n",
              "       [ 0.13447531,  0.42134175],\n",
              "       [ 0.03547508, -1.76407921],\n",
              "       [-0.36052584,  0.05093142],\n",
              "       [-0.5585263 , -0.68988925],\n",
              "       [-0.36052584,  1.49553172],\n",
              "       [ 0.72847669,  0.45838279],\n",
              "       [-1.35052814, -0.13427375],\n",
              "       [ 0.431476  ,  0.05093142],\n",
              "       [ 0.92647715, -2.39377678],\n",
              "       [ 0.92647715, -0.61580718],\n",
              "       [ 2.41148061, -0.31947891],\n",
              "       [-2.04352975, -1.98632541],\n",
              "       [-0.06352515,  0.05093142],\n",
              "       [ 0.13447531, -0.57876615],\n",
              "       [-0.06352515, -2.31969471],\n",
              "       [-0.36052584, -0.68988925],\n",
              "       [ 1.32247808,  0.05093142],\n",
              "       [-1.44952837, -0.31947891],\n",
              "       [ 0.23347554,  0.42134175],\n",
              "       [-1.35052814,  0.23613659],\n",
              "       [ 1.02547738,  0.79175209],\n",
              "       [-0.85552699, -1.43070991],\n",
              "       [ 1.12447761,  0.42134175],\n",
              "       [-0.36052584,  0.12501349],\n",
              "       [ 0.62947646,  0.42134175],\n",
              "       [ 0.23347554, -0.94917648],\n",
              "       [-0.95452722,  1.75481895],\n",
              "       [ 0.03547508, -0.68988925],\n",
              "       [ 0.82747692, -0.31947891],\n",
              "       [-0.5585263 , -0.68988925],\n",
              "       [ 1.52047854,  0.79175209],\n",
              "       [ 0.33247577,  0.23613659],\n",
              "       [-1.35052814, -2.83826918],\n",
              "       [-1.25152791, -0.31947891],\n",
              "       [-1.25152791,  1.27328552],\n",
              "       [ 1.22347784,  0.79175209],\n",
              "       [ 1.42147831,  0.60654692],\n",
              "       [ 0.62947646,  1.97706515],\n",
              "       [ 1.42147831,  0.42134175],\n",
              "       [-0.45952607, -0.31947891],\n",
              "       [-1.25152791, -0.13427375],\n",
              "       [ 0.03547508,  0.23613659],\n",
              "       [ 1.42147831,  0.97695725],\n",
              "       [-1.25152791, -0.61580718],\n",
              "       [ 1.02547738,  0.60654692],\n",
              "       [-0.5585263 ,  0.05093142],\n",
              "       [-0.26152561,  0.05093142]])"
            ]
          },
          "execution_count": 58,
          "metadata": {},
          "output_type": "execute_result"
        }
      ],
      "source": [
        "x_train"
      ]
    },
    {
      "cell_type": "code",
      "execution_count": 59,
      "metadata": {
        "colab": {
          "base_uri": "https://localhost:8080/"
        },
        "id": "JoZwD2llte_o",
        "outputId": "e3025453-a497-4482-a2dc-f43d424aada7"
      },
      "outputs": [
        {
          "data": {
            "text/plain": [
              "array([[-0.95452722, -2.31969471],\n",
              "       [ 1.22347784,  0.79175209],\n",
              "       [-0.75652676, -0.54172511],\n",
              "       [ 0.33247577, -0.13427375],\n",
              "       [-0.65752653,  0.23613659],\n",
              "       [ 1.42147831,  0.05093142],\n",
              "       [-1.25152791,  1.49553172],\n",
              "       [ 2.01547969,  1.38440862],\n",
              "       [ 1.718479  ,  1.34736759],\n",
              "       [ 1.32247808,  0.79175209],\n",
              "       [ 0.03547508, -0.31947891],\n",
              "       [-0.45952607,  0.23613659],\n",
              "       [ 0.03547508,  0.23613659],\n",
              "       [-0.65752653,  0.38430072],\n",
              "       [-1.25152791, -0.13427375],\n",
              "       [ 1.42147831,  0.79175209],\n",
              "       [ 0.431476  , -1.43070991],\n",
              "       [ 0.03547508,  0.05093142],\n",
              "       [ 0.92647715,  1.71777792],\n",
              "       [ 1.32247808,  0.05093142],\n",
              "       [ 1.91647946, -1.83816128],\n",
              "       [-1.15252768, -0.68988925],\n",
              "       [-0.36052584,  0.53246485],\n",
              "       [-0.45952607, -0.13427375],\n",
              "       [-0.06352515, -0.98621751],\n",
              "       [ 1.22347784,  0.42134175],\n",
              "       [-0.06352515,  0.05093142]])"
            ]
          },
          "execution_count": 59,
          "metadata": {},
          "output_type": "execute_result"
        }
      ],
      "source": [
        "x_test = scaler.transform(x_test) #similarly scaling testing data\n",
        "\n",
        "x_test"
      ]
    },
    {
      "cell_type": "code",
      "execution_count": 60,
      "metadata": {
        "id": "KR5qJHmdtxuZ"
      },
      "outputs": [],
      "source": [
        "from sklearn.linear_model import LogisticRegression"
      ]
    },
    {
      "cell_type": "code",
      "execution_count": 61,
      "metadata": {
        "id": "BydIkOSwt8_O"
      },
      "outputs": [],
      "source": [
        "clf = LogisticRegression()"
      ]
    },
    {
      "cell_type": "code",
      "execution_count": 62,
      "metadata": {
        "colab": {
          "base_uri": "https://localhost:8080/",
          "height": 75
        },
        "id": "LZT4I0f0uEDQ",
        "outputId": "857fb71f-5218-4362-9198-e697c6c8fa02"
      },
      "outputs": [
        {
          "data": {
            "text/html": [
              "<style>#sk-container-id-2 {color: black;}#sk-container-id-2 pre{padding: 0;}#sk-container-id-2 div.sk-toggleable {background-color: white;}#sk-container-id-2 label.sk-toggleable__label {cursor: pointer;display: block;width: 100%;margin-bottom: 0;padding: 0.3em;box-sizing: border-box;text-align: center;}#sk-container-id-2 label.sk-toggleable__label-arrow:before {content: \"▸\";float: left;margin-right: 0.25em;color: #696969;}#sk-container-id-2 label.sk-toggleable__label-arrow:hover:before {color: black;}#sk-container-id-2 div.sk-estimator:hover label.sk-toggleable__label-arrow:before {color: black;}#sk-container-id-2 div.sk-toggleable__content {max-height: 0;max-width: 0;overflow: hidden;text-align: left;background-color: #f0f8ff;}#sk-container-id-2 div.sk-toggleable__content pre {margin: 0.2em;color: black;border-radius: 0.25em;background-color: #f0f8ff;}#sk-container-id-2 input.sk-toggleable__control:checked~div.sk-toggleable__content {max-height: 200px;max-width: 100%;overflow: auto;}#sk-container-id-2 input.sk-toggleable__control:checked~label.sk-toggleable__label-arrow:before {content: \"▾\";}#sk-container-id-2 div.sk-estimator input.sk-toggleable__control:checked~label.sk-toggleable__label {background-color: #d4ebff;}#sk-container-id-2 div.sk-label input.sk-toggleable__control:checked~label.sk-toggleable__label {background-color: #d4ebff;}#sk-container-id-2 input.sk-hidden--visually {border: 0;clip: rect(1px 1px 1px 1px);clip: rect(1px, 1px, 1px, 1px);height: 1px;margin: -1px;overflow: hidden;padding: 0;position: absolute;width: 1px;}#sk-container-id-2 div.sk-estimator {font-family: monospace;background-color: #f0f8ff;border: 1px dotted black;border-radius: 0.25em;box-sizing: border-box;margin-bottom: 0.5em;}#sk-container-id-2 div.sk-estimator:hover {background-color: #d4ebff;}#sk-container-id-2 div.sk-parallel-item::after {content: \"\";width: 100%;border-bottom: 1px solid gray;flex-grow: 1;}#sk-container-id-2 div.sk-label:hover label.sk-toggleable__label {background-color: #d4ebff;}#sk-container-id-2 div.sk-serial::before {content: \"\";position: absolute;border-left: 1px solid gray;box-sizing: border-box;top: 0;bottom: 0;left: 50%;z-index: 0;}#sk-container-id-2 div.sk-serial {display: flex;flex-direction: column;align-items: center;background-color: white;padding-right: 0.2em;padding-left: 0.2em;position: relative;}#sk-container-id-2 div.sk-item {position: relative;z-index: 1;}#sk-container-id-2 div.sk-parallel {display: flex;align-items: stretch;justify-content: center;background-color: white;position: relative;}#sk-container-id-2 div.sk-item::before, #sk-container-id-2 div.sk-parallel-item::before {content: \"\";position: absolute;border-left: 1px solid gray;box-sizing: border-box;top: 0;bottom: 0;left: 50%;z-index: -1;}#sk-container-id-2 div.sk-parallel-item {display: flex;flex-direction: column;z-index: 1;position: relative;background-color: white;}#sk-container-id-2 div.sk-parallel-item:first-child::after {align-self: flex-end;width: 50%;}#sk-container-id-2 div.sk-parallel-item:last-child::after {align-self: flex-start;width: 50%;}#sk-container-id-2 div.sk-parallel-item:only-child::after {width: 0;}#sk-container-id-2 div.sk-dashed-wrapped {border: 1px dashed gray;margin: 0 0.4em 0.5em 0.4em;box-sizing: border-box;padding-bottom: 0.4em;background-color: white;}#sk-container-id-2 div.sk-label label {font-family: monospace;font-weight: bold;display: inline-block;line-height: 1.2em;}#sk-container-id-2 div.sk-label-container {text-align: center;}#sk-container-id-2 div.sk-container {/* jupyter's `normalize.less` sets `[hidden] { display: none; }` but bootstrap.min.css set `[hidden] { display: none !important; }` so we also need the `!important` here to be able to override the default hidden behavior on the sphinx rendered scikit-learn.org. See: https://github.com/scikit-learn/scikit-learn/issues/21755 */display: inline-block !important;position: relative;}#sk-container-id-2 div.sk-text-repr-fallback {display: none;}</style><div id=\"sk-container-id-2\" class=\"sk-top-container\"><div class=\"sk-text-repr-fallback\"><pre>LogisticRegression()</pre><b>In a Jupyter environment, please rerun this cell to show the HTML representation or trust the notebook. <br />On GitHub, the HTML representation is unable to render, please try loading this page with nbviewer.org.</b></div><div class=\"sk-container\" hidden><div class=\"sk-item\"><div class=\"sk-estimator sk-toggleable\"><input class=\"sk-toggleable__control sk-hidden--visually\" id=\"sk-estimator-id-2\" type=\"checkbox\" checked><label for=\"sk-estimator-id-2\" class=\"sk-toggleable__label sk-toggleable__label-arrow\">LogisticRegression</label><div class=\"sk-toggleable__content\"><pre>LogisticRegression()</pre></div></div></div></div></div>"
            ],
            "text/plain": [
              "LogisticRegression()"
            ]
          },
          "execution_count": 62,
          "metadata": {},
          "output_type": "execute_result"
        }
      ],
      "source": [
        "# model training\n",
        "clf.fit(x_train,y_train) #using logistic regression ( classification)"
      ]
    },
    {
      "cell_type": "code",
      "execution_count": 63,
      "metadata": {
        "id": "v3xnyXNkurja"
      },
      "outputs": [],
      "source": [
        "y_pred = clf.predict(x_test) # Pass x_test (test features) to predict"
      ]
    },
    {
      "cell_type": "code",
      "execution_count": 64,
      "metadata": {
        "colab": {
          "base_uri": "https://localhost:8080/"
        },
        "id": "ISfC0bLTvrTd",
        "outputId": "90d8cb88-629e-4cd1-82e9-12f00610b4c4"
      },
      "outputs": [
        {
          "data": {
            "text/plain": [
              "9      0\n",
              "208    1\n",
              "46     0\n",
              "110    1\n",
              "210    0\n",
              "83     1\n",
              "75     0\n",
              "65     1\n",
              "119    1\n",
              "246    1\n",
              "165    1\n",
              "238    0\n",
              "157    1\n",
              "12     0\n",
              "239    0\n",
              "176    1\n",
              "79     1\n",
              "204    1\n",
              "52     1\n",
              "171    1\n",
              "58     1\n",
              "260    0\n",
              "6      0\n",
              "206    0\n",
              "62     0\n",
              "243    1\n",
              "154    1\n",
              "Name: placement, dtype: int64"
            ]
          },
          "execution_count": 64,
          "metadata": {},
          "output_type": "execute_result"
        }
      ],
      "source": [
        "y_test"
      ]
    },
    {
      "cell_type": "code",
      "execution_count": 65,
      "metadata": {
        "colab": {
          "base_uri": "https://localhost:8080/"
        },
        "id": "k_eVkVvfv-gZ",
        "outputId": "c0558943-ddc0-4432-a6e6-e3cccdabe0ba"
      },
      "outputs": [
        {
          "data": {
            "text/plain": [
              "array([0, 1, 0, 1, 0, 1, 0, 1, 1, 1, 1, 0, 1, 0, 0, 1, 1, 1, 1, 1, 1, 0,\n",
              "       0, 0, 0, 1, 1], dtype=int64)"
            ]
          },
          "execution_count": 65,
          "metadata": {},
          "output_type": "execute_result"
        }
      ],
      "source": [
        "y_pred #predicted values"
      ]
    },
    {
      "cell_type": "code",
      "execution_count": 66,
      "metadata": {
        "id": "MjkPLi3HwKBI"
      },
      "outputs": [],
      "source": [
        "from sklearn.metrics import accuracy_score"
      ]
    },
    {
      "cell_type": "code",
      "execution_count": 67,
      "metadata": {
        "colab": {
          "base_uri": "https://localhost:8080/"
        },
        "id": "y4y_dWHOwQFu",
        "outputId": "7db9732a-4bc3-46d1-8c5f-31dbdd212313"
      },
      "outputs": [
        {
          "data": {
            "text/plain": [
              "1.0"
            ]
          },
          "execution_count": 67,
          "metadata": {},
          "output_type": "execute_result"
        }
      ],
      "source": [
        "accuracy_score(y_test,y_pred) #to find the accuracy score"
      ]
    },
    {
      "cell_type": "code",
      "execution_count": 68,
      "metadata": {
        "id": "cTc8e5RQwXKV"
      },
      "outputs": [],
      "source": [
        "# it means 90% accuracy"
      ]
    },
    {
      "cell_type": "code",
      "execution_count": 69,
      "metadata": {
        "id": "aSrk2VrGwipm"
      },
      "outputs": [],
      "source": [
        "# To find decision boundary in this model :-"
      ]
    },
    {
      "cell_type": "code",
      "execution_count": 70,
      "metadata": {
        "id": "wMwsQzICwsY1"
      },
      "outputs": [],
      "source": [
        "from mlxtend.plotting import plot_decision_regions"
      ]
    },
    {
      "cell_type": "code",
      "execution_count": 71,
      "metadata": {
        "colab": {
          "base_uri": "https://localhost:8080/",
          "height": 447
        },
        "id": "ir5lmrm6wy0m",
        "outputId": "a9ee0c47-a375-474e-a6a8-7e79b9d8b200"
      },
      "outputs": [
        {
          "data": {
            "text/plain": [
              "<Axes: >"
            ]
          },
          "execution_count": 71,
          "metadata": {},
          "output_type": "execute_result"
        },
        {
          "data": {
            "image/png": "[encoded data removed]",
            "text/plain": [
              "<Figure size 640x480 with 1 Axes>"
            ]
          },
          "metadata": {},
          "output_type": "display_data"
        }
      ],
      "source": [
        "plot_decision_regions(x_train, y_train.values, clf=clf, legend=2)"
      ]
    },
    {
      "cell_type": "code",
      "execution_count": 72,
      "metadata": {
        "id": "utnh1PMew6z_"
      },
      "outputs": [],
      "source": [
        "#doing new stuff"
      ]
    },
    {
      "cell_type": "code",
      "execution_count": 73,
      "metadata": {
        "id": "tZi1CGdxxBOw"
      },
      "outputs": [
        {
          "name": "stdout",
          "output_type": "stream",
          "text": [
            "['model.pkl']\n"
          ]
        }
      ],
      "source": [
        "import os\n",
        "import pickle\n",
        "from sklearn.linear_model import LogisticRegression\n",
        "from sklearn.model_selection import train_test_split\n",
        "from sklearn.preprocessing import StandardScaler\n",
        "import pandas as pd\n",
        "\n",
        "# Load and preprocess your data\n",
        "df = pd.read_csv('C:/Users/Hello/Desktop/Placement_Prediction/placement.csv')\n",
        "df = df.iloc[:, 1:]\n",
        "x = df.iloc[:, 0:2]\n",
        "y = df.iloc[:, -1]\n",
        "x_train, x_test, y_train, y_test = train_test_split(x, y, test_size=0.1)\n",
        "\n",
        "# Scaling\n",
        "scaler = StandardScaler()\n",
        "x_train = scaler.fit_transform(x_train)\n",
        "x_test = scaler.transform(x_test)\n",
        "\n",
        "# Train the model\n",
        "clf = LogisticRegression()\n",
        "clf.fit(x_train, y_train)\n",
        "\n",
        "# Ensure the Placement_prediction directory exists\n",
        "os.makedirs('Placement_Prediction', exist_ok=True)\n",
        "\n",
        "# Save the model to the Placement_prediction folder\n",
        "pickle.dump(clf, open('Placement_Prediction/model.pkl', 'wb'))\n",
        "\n",
        "# Verify the file creation\n",
        "print(os.listdir('Placement_Prediction'))\n"
      ]
    },
    {
      "cell_type": "code",
      "execution_count": 74,
      "metadata": {
        "id": "aGpIOA-cxr3d"
      },
      "outputs": [
        {
          "name": "stdout",
          "output_type": "stream",
          "text": [
            "c:\\Users\\Hello\\Desktop\\Placement_Prediction\\Placement_prediction\\model.pkl\n"
          ]
        }
      ],
      "source": [
        "import os\n",
        "print(os.path.abspath('Placement_prediction/model.pkl'))\n"
      ]
    },
    {
      "cell_type": "code",
      "execution_count": 75,
      "metadata": {},
      "outputs": [
        {
          "name": "stdout",
          "output_type": "stream",
          "text": [
            "placement\n",
            "1    143\n",
            "0    124\n",
            "Name: count, dtype: int64\n"
          ]
        }
      ],
      "source": [
        "print(y.value_counts())"
      ]
    },
    {
      "cell_type": "code",
      "execution_count": 76,
      "metadata": {},
      "outputs": [
        {
          "name": "stdout",
          "output_type": "stream",
          "text": [
            "Initial Accuracy: 0.9629629629629629\n",
            "Confusion Matrix:\n",
            " [[10  0]\n",
            " [ 1 16]]\n",
            "Accuracy after SMOTE: 0.9629629629629629\n",
            "Confusion Matrix after SMOTE:\n",
            " [[10  0]\n",
            " [ 1 16]]\n",
            "Model saved successfully.\n",
            "['model.pkl']\n",
            "c:\\Users\\Hello\\Desktop\\Placement_Prediction\\Placement_prediction\\model.pkl\n"
          ]
        }
      ],
      "source": [
        "# Initial imports and data loading // Retraining to balance the model\n",
        "import numpy as np\n",
        "import pandas as pd\n",
        "from sklearn.model_selection import train_test_split\n",
        "from sklearn.preprocessing import StandardScaler\n",
        "from sklearn.linear_model import LogisticRegression\n",
        "from sklearn.metrics import accuracy_score, confusion_matrix\n",
        "import os\n",
        "import pickle\n",
        "\n",
        "# Load and preprocess your data\n",
        "df = pd.read_csv('C:/Users/Hello/Desktop/Placement_Prediction/placement.csv')\n",
        "df = df.iloc[:, 1:]\n",
        "x = df.iloc[:, 0:2]\n",
        "y = df.iloc[:, -1]\n",
        "x_train, x_test, y_train, y_test = train_test_split(x, y, test_size=0.1)\n",
        "\n",
        "# Scaling\n",
        "scaler = StandardScaler()\n",
        "x_train = scaler.fit_transform(x_train)\n",
        "x_test = scaler.transform(x_test)\n",
        "\n",
        "# Initial model training\n",
        "clf = LogisticRegression()\n",
        "clf.fit(x_train, y_train)\n",
        "\n",
        "# Initial predictions and evaluation\n",
        "y_pred = clf.predict(x_test)\n",
        "print(\"Initial Accuracy:\", accuracy_score(y_test, y_pred))\n",
        "print(\"Confusion Matrix:\\n\", confusion_matrix(y_test, y_pred))\n",
        "\n",
        "# Add SMOTE for handling class imbalance\n",
        "from imblearn.over_sampling import SMOTE\n",
        "\n",
        "smote = SMOTE()\n",
        "x_train_resampled, y_train_resampled = smote.fit_resample(x_train, y_train)\n",
        "\n",
        "# Retrain the model with resampled data\n",
        "clf.fit(x_train_resampled, y_train_resampled)\n",
        "y_pred = clf.predict(x_test)\n",
        "\n",
        "# Evaluate the model with resampled data\n",
        "print(\"Accuracy after SMOTE:\", accuracy_score(y_test, y_pred))\n",
        "print(\"Confusion Matrix after SMOTE:\\n\", confusion_matrix(y_test, y_pred))\n",
        "\n",
        "# Save the improved model\n",
        "os.makedirs('Placement_Prediction', exist_ok=True)\n",
        "pickle.dump(clf, open('Placement_Prediction/model.pkl', 'wb'))\n",
        "print(\"Model saved successfully.\")\n",
        "\n",
        "# Verify the file creation\n",
        "print(os.listdir('Placement_Prediction'))\n",
        "\n",
        "import os\n",
        "print(os.path.abspath('Placement_prediction/model.pkl'))"
      ]
    },
    {
      "cell_type": "code",
      "execution_count": 81,
      "metadata": {},
      "outputs": [
        {
          "name": "stdout",
          "output_type": "stream",
          "text": [
            "Manual Input Prediction: Not Placed\n"
          ]
        },
        {
          "name": "stderr",
          "output_type": "stream",
          "text": [
            "c:\\Users\\Hello\\Desktop\\Placement_Prediction\\venv\\lib\\site-packages\\sklearn\\base.py:465: UserWarning: X does not have valid feature names, but StandardScaler was fitted with feature names\n",
            "  warnings.warn(\n"
          ]
        }
      ],
      "source": [
        "import numpy as np\n",
        "import pandas as pd\n",
        "from sklearn.preprocessing import StandardScaler\n",
        "from sklearn.linear_model import LogisticRegression\n",
        "import pickle\n",
        "\n",
        "# Load the model\n",
        "model = pickle.load(open('Placement_Prediction/model.pkl', 'rb'))\n",
        "\n",
        "# Load and preprocess your data\n",
        "df = pd.read_csv('C:/Users/Hello/Desktop/Placement_Prediction/placement.csv')\n",
        "df = df.iloc[:, 1:]\n",
        "\n",
        "# Extract features\n",
        "x = df.iloc[:, 0:2]\n",
        "\n",
        "# Initialize and fit the scaler\n",
        "scaler = StandardScaler()\n",
        "x_scaled = scaler.fit_transform(x)\n",
        "\n",
        "# If the model has not been trained before this point, you should train it\n",
        "# For demonstration, we'll fit it again with the same data\n",
        "clf = LogisticRegression()\n",
        "clf.fit(x_scaled, df.iloc[:, -1])\n",
        "\n",
        "# Example manual input\n",
        "cgpa_input = 5\n",
        "iq_input = 120\n",
        "\n",
        "# Convert to a numpy array and scale\n",
        "input_values = np.array([[cgpa_input, iq_input]])\n",
        "input_values_scaled = scaler.transform(input_values)\n",
        "\n",
        "# Predict\n",
        "prediction = model.predict(input_values_scaled)\n",
        "print(prediction)\n",
        "result = 'Placed' if prediction[0] == 1 else 'Not Placed'\n",
        "\n",
        "print(\"Manual Input Prediction:\", result)\n"
      ]
    },
    {
      "cell_type": "code",
      "execution_count": null,
      "metadata": {},
      "outputs": [],
      "source": []
    }
  ],
  "metadata": {
    "colab": {
      "provenance": []
    },
    "kernelspec": {
      "display_name": "Python 3",
      "name": "python3"
    },
    "language_info": {
      "codemirror_mode": {
        "name": "ipython",
        "version": 3
      },
      "file_extension": ".py",
      "mimetype": "text/x-python",
      "name": "python",
      "nbconvert_exporter": "python",
      "pygments_lexer": "ipython3",
      "version": "3.8.10"
    }
  },
  "nbformat": 4,
  "nbformat_minor": 0
}
